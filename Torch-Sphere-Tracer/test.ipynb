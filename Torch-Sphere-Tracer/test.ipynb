{
 "cells": [
  {
   "cell_type": "code",
   "execution_count": 1,
   "metadata": {},
   "outputs": [],
   "source": [
    "import torch\n",
    "import torch.nn as nn\n",
    "import torchvision\n",
    "import numpy as np\n",
    "import matplotlib.pyplot as plt\n",
    "from PIL import Image\n",
    "\n",
    "import renderers\n",
    "import sdf\n",
    "import csg"
   ]
  },
  {
   "cell_type": "code",
   "execution_count": 2,
   "metadata": {},
   "outputs": [],
   "source": [
    "device = torch.device(\"cuda\")"
   ]
  },
  {
   "cell_type": "code",
   "execution_count": 3,
   "metadata": {},
   "outputs": [],
   "source": [
    "def compute_rotation_matrix(axes, angles):\n",
    "    nx, ny, nz = torch.unbind(axes, dim=-1)\n",
    "    c, s = torch.cos(angles), torch.sin(angles)\n",
    "    rotation_matrices = torch.stack([\n",
    "        torch.stack([nx * nx * (1.0 - c) + 1. * c, ny * nx * (1.0 - c) - nz * s, nz * nx * (1.0 - c) + ny * s], dim=-1),\n",
    "        torch.stack([nx * ny * (1.0 - c) + nz * s, ny * ny * (1.0 - c) + 1. * c, nz * ny * (1.0 - c) - nx * s], dim=-1),\n",
    "        torch.stack([nx * nz * (1.0 - c) - ny * s, ny * nz * (1.0 - c) + nx * s, nz * nz * (1.0 - c) + 1. * c], dim=-1),\n",
    "    ], dim=-2)\n",
    "    return rotation_matrices\n",
    "\n",
    "def render(signed_distance_function):\n",
    "    \n",
    "    # ---------------- camera matrix ---------------- #\n",
    "\n",
    "    fx = fy = 1024\n",
    "    cx = cy = 512\n",
    "    camera_matrix = torch.tensor([[fx, 0.0, cx], [0.0, fy, cy], [0.0, 0.0, 1.0]], device=device).float()\n",
    "\n",
    "    # ---------------- camera position ---------------- #\n",
    "\n",
    "    distance = 5.0\n",
    "    azimuth = np.pi / 4.0\n",
    "    elevation = np.pi / 4.0\n",
    "\n",
    "    camera_position = torch.tensor([\n",
    "        +np.cos(elevation) * np.sin(azimuth), \n",
    "        -np.sin(elevation), \n",
    "        -np.cos(elevation) * np.cos(azimuth)\n",
    "    ], device=device).float() * distance\n",
    "\n",
    "    # ---------------- camera rotation ---------------- #\n",
    "\n",
    "    target_position = torch.tensor([0.0, -1.0, 0.0], device=device).float()\n",
    "    up_direction = torch.tensor([0.0, 1.0, 0.0], device=device).float()\n",
    "\n",
    "    camera_z_axis = target_position - camera_position\n",
    "    camera_x_axis = torch.cross(up_direction, camera_z_axis, dim=-1)\n",
    "    camera_y_axis = torch.cross(camera_z_axis, camera_x_axis, dim=-1)\n",
    "    camera_rotation = torch.stack((camera_x_axis, camera_y_axis, camera_z_axis), dim=-1)\n",
    "    camera_rotation = nn.functional.normalize(camera_rotation, dim=-2)\n",
    "\n",
    "    # ---------------- directional light ---------------- #\n",
    "\n",
    "    light_directions = torch.tensor([1.0, -0.5, 0.0], device=device)\n",
    "\n",
    "    # ---------------- ray marching ---------------- #\n",
    "\n",
    "    y_positions = torch.arange(cy * 2, dtype=camera_matrix.dtype, device=device).float()\n",
    "    x_positions = torch.arange(cx * 2, dtype=camera_matrix.dtype, device=device).float()\n",
    "    y_positions, x_positions = torch.meshgrid(y_positions, x_positions, indexing='ij')\n",
    "    z_positions = torch.ones_like(y_positions).float()\n",
    "    ray_positions = torch.stack((x_positions, y_positions, z_positions), dim=-1)\n",
    "    ray_positions = torch.einsum(\"mn,...n->...m\", torch.inverse(camera_matrix),  ray_positions)\n",
    "    ray_positions = torch.einsum(\"mn,...n->...m\", camera_rotation, ray_positions) + camera_position\n",
    "    ray_directions = nn.functional.normalize(ray_positions - camera_position, dim=-1)\n",
    "   \n",
    "    # ---------------- rendering ---------------- #\n",
    "\n",
    "    ground = sdf.plane(torch.tensor([0.0, -1.0, 0.0], device=device), 0.0)\n",
    "        \n",
    "    num_iterations = 2000\n",
    "    convergence_threshold = 1e-3\n",
    "\n",
    "    signed_distance_function = csg.union(signed_distance_function, ground)\n",
    "\n",
    "    surface_positions, converged = renderers.sphere_tracing(\n",
    "        signed_distance_function=signed_distance_function, \n",
    "        ray_positions=ray_positions, \n",
    "        ray_directions=ray_directions, \n",
    "        num_iterations=num_iterations, \n",
    "        convergence_threshold=convergence_threshold,\n",
    "    )\n",
    "    surface_positions = torch.where(converged, surface_positions, torch.zeros_like(surface_positions))\n",
    "\n",
    "    surface_normals = renderers.compute_normal(\n",
    "        signed_distance_function=signed_distance_function, \n",
    "        surface_positions=surface_positions,\n",
    "    )\n",
    "    surface_normals = torch.where(converged, surface_normals, torch.zeros_like(surface_normals))\n",
    "\n",
    "    image = renderers.phong_shading(\n",
    "        surface_normals=surface_normals, \n",
    "        view_directions=camera_position - surface_positions, \n",
    "        light_directions=light_directions, \n",
    "        light_ambient_color=torch.ones(1, 1, 3, device=device),\n",
    "        light_diffuse_color=torch.ones(1, 1, 3, device=device), \n",
    "        light_specular_color=torch.ones(1, 1, 3, device=device), \n",
    "        material_ambient_color=torch.full((1, 1, 3), 0.2, device=device) + (torch.rand(1, 1, 3, device=device) * 2 - 1) * 0.1,\n",
    "        material_diffuse_color=torch.full((1, 1, 3), 0.7, device=device) + (torch.rand(1, 1, 3, device=device) * 2 - 1) * 0.1,\n",
    "        material_specular_color=torch.full((1, 1, 3), 0.1, device=device),\n",
    "        material_emission_color=torch.zeros(1, 1, 3, device=device),\n",
    "        material_shininess=64.0,\n",
    "    )\n",
    "\n",
    "    grounded = torch.abs(ground(surface_positions)) < convergence_threshold\n",
    "    image = torch.where(grounded, torch.full_like(image, 0.9), image)\n",
    "\n",
    "    shadowed = renderers.compute_shadows(\n",
    "        signed_distance_function=signed_distance_function, \n",
    "        surface_positions=surface_positions, \n",
    "        surface_normals=surface_normals,\n",
    "        light_directions=light_directions, \n",
    "        num_iterations=num_iterations, \n",
    "        convergence_threshold=convergence_threshold,\n",
    "        foreground_masks=converged,\n",
    "    )\n",
    "    image = torch.where(shadowed, image * 0.5, image)\n",
    "\n",
    "    image = torch.where(converged, image, torch.zeros_like(image))\n",
    "    \n",
    "    return image"
   ]
  },
  {
   "cell_type": "code",
   "execution_count": 4,
   "metadata": {},
   "outputs": [],
   "source": [
    "# ---------------- test ---------------- #\n"
   ]
  },
  {
   "cell_type": "code",
   "execution_count": 5,
   "metadata": {},
   "outputs": [],
   "source": [
    "# Define SDF\n",
    "signed_distance_functions = sdf.translation(sdf.sphere(0.5), torch.tensor([0.0, -1.0, 0.0], device=device))"
   ]
  },
  {
   "cell_type": "code",
   "execution_count": 6,
   "metadata": {},
   "outputs": [],
   "source": [
    "# Evaluation Grid\n",
    "x_positions = torch.tensor([1.], device=device).float()\n",
    "y_positions = torch.tensor([0.], device=device).float()\n",
    "z_positions = torch.tensor([0.], device=device).float()\n",
    "\n",
    "ray_positions = torch.stack((x_positions, y_positions, z_positions), dim=-1)"
   ]
  },
  {
   "cell_type": "code",
   "execution_count": 9,
   "metadata": {},
   "outputs": [
    {
     "data": {
      "text/plain": [
       "tensor([[0.9142]], device='cuda:0')"
      ]
     },
     "execution_count": 9,
     "metadata": {},
     "output_type": "execute_result"
    }
   ],
   "source": [
    "# Evaluate\n",
    "signed_distance_functions(ray_positions)"
   ]
  },
  {
   "cell_type": "code",
   "execution_count": 10,
   "metadata": {},
   "outputs": [],
   "source": [
    "# Render (debug)\n",
    "image = render(signed_distance_functions)"
   ]
  },
  {
   "cell_type": "code",
   "execution_count": 11,
   "metadata": {},
   "outputs": [
    {
     "data": {
      "image/png": "[encoded data removed]",
      "text/plain": [
       "<Figure size 640x480 with 1 Axes>"
      ]
     },
     "metadata": {},
     "output_type": "display_data"
    }
   ],
   "source": [
    "# Scale the tensor to the range [0, 255]\n",
    "tensor = (image * 255).byte()  # Convert to byte (uint8)\n",
    "\n",
    "# Convert to NumPy array\n",
    "np_array = tensor.cpu().numpy()\n",
    "\n",
    "# Convert to a PIL image\n",
    "image = Image.fromarray(np_array)\n",
    "\n",
    "# Display the image using matplotlib\n",
    "plt.imshow(image)\n",
    "plt.axis('off')  # Hide the axis\n",
    "plt.show()"
   ]
  },
  {
   "cell_type": "code",
   "execution_count": 24,
   "metadata": {},
   "outputs": [],
   "source": [
    "# ---------------- load target ---------------- #\n",
    "from pytorch3d.io import load_ply\n",
    "from pytorch3d.structures import Meshes\n",
    "import meshplot as mp"
   ]
  },
  {
   "cell_type": "code",
   "execution_count": 25,
   "metadata": {},
   "outputs": [],
   "source": [
    "# Load the target mesh\n",
    "verts, faces = load_ply('../data/37289.ply')\n",
    "\n",
    "# Convert vertices to a tensor if not already\n",
    "if not isinstance(verts, torch.Tensor):\n",
    "    verts = torch.tensor(verts, dtype=torch.float32)\n",
    "\n",
    "# Step 1: Compute the bounding box (min/max coordinates)\n",
    "min_coords = verts.min(dim=0)[0]\n",
    "max_coords = verts.max(dim=0)[0]\n",
    "\n",
    "# Step 2: Compute the center of the bounding box\n",
    "center = (min_coords + max_coords) / 2.0\n",
    "\n",
    "# Step 3: Center the object to the origin\n",
    "verts_centered = verts - center\n",
    "\n",
    "# Step 4: Compute the scale factor to fit within the unit cube\n",
    "scale_factor = 1.0 / (max_coords - min_coords).max()\n",
    "\n",
    "# Step 5: Scale the object to fit the unit cube\n",
    "verts_scaled = verts_centered * scale_factor\n",
    "\n",
    "# Step 6: Translate the object to the first octant (shift so all coordinates are positive)\n",
    "min_coords_after_scaling = verts_scaled.min(dim=0)[0]\n",
    "verts_final = verts_scaled - min_coords_after_scaling\n",
    "\n",
    "# Now `mesh` is centered and scaled to fit in the first octant cube"
   ]
  },
  {
   "cell_type": "code",
   "execution_count": 27,
   "metadata": {},
   "outputs": [
    {
     "data": {
      "application/vnd.jupyter.widget-view+json": {
       "model_id": "cd42a9a466794608a5d2985fb1e4f148",
       "version_major": 2,
       "version_minor": 0
      },
      "text/plain": [
       "Renderer(camera=PerspectiveCamera(children=(DirectionalLight(color='white', intensity=0.6, position=(0.5, 0.47…"
      ]
     },
     "metadata": {},
     "output_type": "display_data"
    },
    {
     "data": {
      "text/plain": [
       "<meshplot.Viewer.Viewer at 0x7f38b80a2aa0>"
      ]
     },
     "execution_count": 27,
     "metadata": {},
     "output_type": "execute_result"
    }
   ],
   "source": [
    "mp.plot(verts_final.numpy(), faces.numpy())\n"
   ]
  },
  {
   "cell_type": "code",
   "execution_count": null,
   "metadata": {},
   "outputs": [],
   "source": []
  }
 ],
 "metadata": {
  "kernelspec": {
   "display_name": "csg",
   "language": "python",
   "name": "python3"
  },
  "language_info": {
   "codemirror_mode": {
    "name": "ipython",
    "version": 3
   },
   "file_extension": ".py",
   "mimetype": "text/x-python",
   "name": "python",
   "nbconvert_exporter": "python",
   "pygments_lexer": "ipython3",
   "version": "3.10.13"
  }
 },
 "nbformat": 4,
 "nbformat_minor": 2
}
